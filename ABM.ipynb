{
 "cells": [
  {
   "cell_type": "code",
   "execution_count": 1,
   "id": "f4abac6f",
   "metadata": {},
   "outputs": [],
   "source": [
    "# install library \n",
    "# ! pip install mesa"
   ]
  },
  {
   "cell_type": "code",
   "execution_count": 2,
   "id": "e382c5bd",
   "metadata": {},
   "outputs": [],
   "source": [
    "# import dependancies \n",
    "import mesa\n",
    "import numpy as np\n",
    "import matplotlib.pyplot as plt\n",
    "import math\n",
    "import networkx as nx "
   ]
  },
  {
   "cell_type": "code",
   "execution_count": 3,
   "id": "31936777",
   "metadata": {},
   "outputs": [
    {
     "name": "stdout",
     "output_type": "stream",
     "text": [
      "2.3.0\n"
     ]
    }
   ],
   "source": [
    "print (mesa.__version__)"
   ]
  },
  {
   "cell_type": "markdown",
   "id": "3f15f59b",
   "metadata": {},
   "source": [
    "## Helper function "
   ]
  },
  {
   "cell_type": "code",
   "execution_count": 4,
   "id": "f1b4f618",
   "metadata": {},
   "outputs": [],
   "source": [
    "def get_distance(pos_1,pos_2):\n",
    "    \"\"\"\n",
    "    Calculate the euclidian distance bw two position\n",
    "    used in trade.move()\n",
    "    \"\"\"\n",
    "    \n",
    "    x1,y1 = pos_1\n",
    "    x2,y2 = pos_2\n",
    "    dx = x1-x2\n",
    "    dy = y1-y2\n",
    "    return math.sqrt(dx**2 + dy**2)\n",
    "\n",
    "def flatten(list_of_lists):\n",
    "    '''\n",
    "    Helper function for model datacolllector for trade price \n",
    "    collapse agent price list of lists \n",
    "    '''\n",
    "    \n",
    "    return [item for sublist in list_of_lists for item in sublist]\n",
    "\n",
    "def geometric_mean(list_of_prices):\n",
    "    \"\"\"\n",
    "    find the geometic mean of a list of prices \n",
    "    \"\"\"\n",
    "    return np.exp(np.log(list_of_prices).mean())\n",
    "\n",
    "def get_trade(agent):\n",
    "    \"\"\"\n",
    "    For agent reporters in data collector \n",
    "    \n",
    "    return agent trade parteners and none for other agnets  \n",
    "    \"\"\"\n",
    "    if type(aget) == Trader:\n",
    "        return agent.trade_partners\n",
    "    else:\n",
    "        return None"
   ]
  },
  {
   "cell_type": "markdown",
   "id": "87eaa701",
   "metadata": {},
   "source": [
    "## Resource classes -- sugar and spice agent"
   ]
  },
  {
   "cell_type": "code",
   "execution_count": 5,
   "id": "3730ee46",
   "metadata": {},
   "outputs": [],
   "source": [
    "# Now define sugar and spice agent\n",
    "class Sugar(mesa.Agent):\n",
    "    \"\"\"  \n",
    "    Sugar : \n",
    "    - contains an amount of sugar\n",
    "    - Grows one amount of sugar at each turn\n",
    "    \"\"\"\n",
    "    \n",
    "    def __init__(self, unique_id, model,pos, max_sugar):\n",
    "        super().__init__(unique_id, model)\n",
    "        self.pos = pos\n",
    "        self.amount = max_sugar # current amount of sugar\n",
    "        self.max_sugar = max_sugar\n",
    "        \n",
    "    # Add step function \n",
    "    def step(self):\n",
    "        \"\"\"\n",
    "        Sugar growth function, adds one unit of sugar each step unitill\n",
    "        max amount \n",
    "        \"\"\"\n",
    "        self.amount = min([self.max_sugar,self.amount + 1])"
   ]
  },
  {
   "cell_type": "code",
   "execution_count": 6,
   "id": "967e7dd3",
   "metadata": {},
   "outputs": [],
   "source": [
    "class Spice(mesa.Agent):\n",
    "    \"\"\"\n",
    "    spice:\n",
    "    - contain an amount of spice\n",
    "    - grows 1 amont of spice at each turn \n",
    "    \"\"\"\n",
    "    def __init__(self, unique_id, model, pos, max_spice):\n",
    "        super().__init__(unique_id, model)\n",
    "        self.pos = pos\n",
    "        self.amount = max_spice # this tell us how much spice at a given time step\n",
    "        self.max_spice = max_spice # this tells the moset hat canb e at a location\n",
    "    \n",
    "    def step(self):\n",
    "        \"\"\"\n",
    "        Spice growth function, adds one unit of spice each step unit \n",
    "        max amount\n",
    "        \"\"\"\n",
    "        self.amount = min([self.max_spice,self.amount + 1])"
   ]
  },
  {
   "cell_type": "markdown",
   "id": "358d4e7a",
   "metadata": {},
   "source": [
    "### Trader class "
   ]
  },
  {
   "cell_type": "code",
   "execution_count": 7,
   "id": "37992283",
   "metadata": {},
   "outputs": [],
   "source": [
    "class Trader(mesa.Agent):\n",
    "    \"\"\"\n",
    "    Trader: \n",
    "    - Has a metobolism for sugar and spice \n",
    "    - Harvest and traders sugar and spice to survive and thrive\n",
    "    \"\"\"\n",
    "    \n",
    "    def __init__(self, unique_id, model, pos, moore = False, sugar = 0, \n",
    "                 spice=0, metabolism_sugar = 0, metabolism_spice=0,\n",
    "                vision = 0):\n",
    "        super().__init__(unique_id, model)\n",
    "        self.pos = pos \n",
    "        self.moore = moore\n",
    "        self.sugar = sugar\n",
    "        self.spice = spice\n",
    "        self.metabolism_sugar = metabolism_sugar\n",
    "        self.metabolism_spice = metabolism_spice\n",
    "        self.vision = vision\n",
    "        self.price = []\n",
    "        self.trade_partners = []\n",
    "        \n",
    "        \n",
    "    def get_sugar(self,pos):\n",
    "        \"\"\"\n",
    "        used in self.get_sugar_amout()\n",
    "        used in self.eat()\n",
    "        \"\"\"\n",
    "        this_cell = self.model.grid.get_cell_list_contents(pos)\n",
    "        for agent in this_cell:\n",
    "            if type(agent) is Sugar:\n",
    "                return agent\n",
    "            return None\n",
    "\n",
    "    def get_sugar_amount(self,pos):\n",
    "        \"\"\"\n",
    "        used in self.move as part of self.calculate_welfare()\n",
    "        \"\"\"\n",
    "        sugar_patche = self.get_sugar(pos)\n",
    "        if sugar_patch:\n",
    "            return sugar_patch.amount\n",
    "        return 0\n",
    "    \n",
    "    def get_spice(self,pos):\n",
    "        \"\"\"\n",
    "        used in self.get_spice_amount()\n",
    "        used in self.eat()\n",
    "        \"\"\"\n",
    "        this_cell = self.model.grid.get_cell_list_contents(pos)\n",
    "        for agent in this_cell:\n",
    "            if type(agent) is Spice:\n",
    "                return agent\n",
    "            return None\n",
    "        \n",
    "    def get_spice_amount(self,pos):\n",
    "        \"\"\"\n",
    "        used in self.move as part of self.calculate_welfare()\n",
    "        \"\"\"\n",
    "        spice_patche = self.get_spice(pos)\n",
    "        if spice_patch:\n",
    "            return spice_patch.amount\n",
    "        return 0\n",
    "    \n",
    "    def get_trader(self,pos):\n",
    "        \"\"\"\n",
    "        helper function used in self.trade_with_neighbors\n",
    "        \n",
    "        \"\"\"\n",
    "        this_cell = self.model.grid.get_cell(pos)\n",
    "        for agent in this_cell:\n",
    "            if isinstance(agent,Trader):\n",
    "                return agent\n",
    "        \n",
    "        \n",
    "    def is_occupied_by_other(self, pos):\n",
    "        \"\"\"\n",
    "        Helper funtion part 1 of self.move\n",
    "        \"\"\"\n",
    "        if pos == self.pos:\n",
    "            # agent's position is considered unoccupied and agent can stay there\n",
    "            return False\n",
    "        # get contents of each cell in neighborhood \n",
    "        this_cell = self.model.grid.get_cell_list_content(pos)\n",
    "        for a in this_cell:\n",
    "            # see if occupied by another agent\n",
    "            if isinstance(a, Trader):\n",
    "                return True\n",
    "            return False\n",
    "        \n",
    "    def calculate_welfare(self, sugar, spice):\n",
    "        \"\"\"\n",
    "        Helper function \n",
    "        \n",
    "        part 2 self.move()\n",
    "        self.move()\n",
    "        \"\"\"\n",
    "        # calculate total resource \n",
    "        m_total = self.metabolism_sugar + self.metabolism_spice\n",
    "        \n",
    "        # cobb-douglas functional form - p 97 on growing\n",
    "        return sugar**(self.metabolism_sugar/m_total)* spice**(self.metabolism_spice/m_total)\n",
    "        \n",
    "    def is_starved(self):\n",
    "        \"\"\"\n",
    "        Helper funcion for self.maybe_die()\n",
    "        \"\"\"\n",
    "        return (self.sugar <=0 ) or (self.spice <=0)\n",
    "    \n",
    "    def calculate_MRS(self):\n",
    "        \"\"\"\n",
    "        Helper function for self.trade()\n",
    "        \n",
    "        Determine what trader agent is needs and can give up\n",
    "        \"\"\"\n",
    "        return (self.spice/self.metabolism_spice) / (self.sugar/self.metabolism_sugar)\n",
    "    \n",
    "    def calculate_sell_spice_amount(price):\n",
    "        \"\"\"\n",
    "        Helper function for self.may_sell_spice() which is called from \n",
    "        self.trade()\n",
    "        \"\"\"\n",
    "        if price >=1:\n",
    "            sugar = 1\n",
    "            spice = int(price)\n",
    "        else:\n",
    "            sugar = int(1/price)\n",
    "            spice = 1\n",
    "        return sugar, spice\n",
    "    \n",
    "    \n",
    "    def sell_spice(self, other, sugar, spice):\n",
    "        \"\"\"\n",
    "        Used in self.maybe_sell_spice()\n",
    "        \"\"\"\n",
    "        self.sugar += sugar\n",
    "        other.sugar -= sugar\n",
    "        self.spice -= spice\n",
    "        other.spice += spice \n",
    "\n",
    "        \n",
    "    def maybe_sell_spice(self,other,price,welfare_self,welfare_other):\n",
    "        \"\"\"\n",
    "        Helper function for self.trader()\n",
    "        \"\"\"\n",
    "        \n",
    "        sugar_exchanged,spice_exchanged = self.calculate_sell_spice_amount(price)\n",
    "        \n",
    "        # Assess new sugar and spice amount - what is change did occur \n",
    "        self.sugar = self.sugar + sugar_exchanged \n",
    "        other_sugar = other.sugar - sugar_exchanged\n",
    "        self_spice = self.spice - spice_exchanged\n",
    "        other_spice = other.spice + spice_exchanged\n",
    "        \n",
    "        # double check to ensure agents have resounce \n",
    "        if ((self_sugar <=0 ) or \n",
    "            (other_sugar <=0) or \n",
    "            (self_spice <=0) or \n",
    "            (other_spice <=0)):\n",
    "            return False\n",
    "        \n",
    "        #Trade criteria #1 - are both agents better off? \n",
    "        both_agents_better_off = (\n",
    "                                (welfare_self < self.calculate_welfare(self_sugar, self_spice)) and\n",
    "                                (welfare_other < other.calculate_welfare(other_sugar, other_spice))\n",
    "                            )\n",
    "\n",
    "        \n",
    "        # Trade criteria  #2 is their mrs crossing \n",
    "        mrs_not_crossing = self.calculate_MRS() > other.calculalte_MRS()\n",
    "        if not (both_agents_better_off and mrs_not_crossing):\n",
    "            return False \n",
    "        # criteria met, excute trader\n",
    "        self.sell_spice(other, sugar_exchanged, spice_exchanged)\n",
    "        \n",
    "        return True\n",
    "        \n",
    "    def trade(self,other):\n",
    "        \"\"\"\n",
    "        Helper funtion used in trader with neighbors \n",
    "        \"\"\"\n",
    "        # sanity check to verify code is working as excpected \n",
    "        assert self.sugar > 0\n",
    "        assert self.spice > 0\n",
    "        assert other.sugar > 0 \n",
    "        assert other.spice > 0\n",
    "        \n",
    "        # Calculate marginal of substitution in growing artificial societies p 103\n",
    "        mrs_self = self.calculate_MRS()\n",
    "        mrs_other = other.calculate_MRS()\n",
    "        \n",
    "        # Calculate each agents welfare\n",
    "        welfare_self = self.calculate_welfare(self.sugar, self.spice)\n",
    "        welfare_sugar = other.calculate_welfare(other.sugar,other.spice)\n",
    "        \n",
    "        if math.isclose(mrs_self,mrs_other,rel_tol = 1e-02):\n",
    "            return \n",
    "        \n",
    "        # calculate price \n",
    "        p = math.sqrt(mrs_self*mrs_other)\n",
    "        if mrs_self > mrs_other:\n",
    "            # self is a sugar buyer, spice seller\n",
    "            sold = self.maybe_sell_spice (other, price, welfare_self, welfare_other)\n",
    "            # not trade - criteria not met \n",
    "            if not sold:\n",
    "                return \n",
    "            else:\n",
    "                # self is a spice buyer, sugar seller\n",
    "                sold = other.maybe_sell_spice(self, price, welfare_other,welfare_self)\n",
    "                # no trade - criteria not met\n",
    "                if not sold:\n",
    "                    return \n",
    "                \n",
    "            # capture the data \n",
    "            self.price.append(price)\n",
    "            self.trade_partners.append(other.unique_id)\n",
    "\n",
    "            # continue trading \n",
    "            self.trade(other)\n",
    "                \n",
    "    \n",
    "##########################################\n",
    "#                                        #\n",
    "#             Main Trade functions       #\n",
    "#                                        #\n",
    "##########################################\n",
    "        \n",
    "    def move(self):\n",
    "        \n",
    "        \"\"\"\n",
    "        Funtion for trader agent to identify optimal move for each step in 4 parts\n",
    "        1. indetify all the possible moves \n",
    "        2. Determine which move maximize welfare\n",
    "        3. Find closet best option \n",
    "        4. Move\n",
    "        \"\"\"\n",
    "        # 1. Identify all the possible moves\n",
    "        neighbors = [ i \n",
    "                     for i in self.model.grid.net_neighborhood(self.pos, self.moore,True,self.vision) \n",
    "                     if not self.is_occupied_by_other(i)]\n",
    "        \n",
    "        print(self.pos, neighbors)\n",
    "        \n",
    "        # 2. Determine which move maximize welfare\n",
    "        welfares = [\n",
    "            self.calculate_welfare(self.sugar + self.get_sugar_amount(pos), self.spice + self.get_spice_amount(pos)) for pos in neighbors ]\n",
    "        print(welfares)\n",
    "        \n",
    "        # 3. Find the closet best option\n",
    "        # Find the highest welfares in welfares \n",
    "        max_welfare = max(welfare)\n",
    "        \n",
    "        # get the index of max welfare cells \n",
    "        candidate_indices = [i for i in range(len(welfares))\n",
    "                            is math.isclose(welfares[i], max_welfare,rel_tol = 1e-02) ]\n",
    "        \n",
    "        # 4 convert index to positions of those cells \n",
    "        candidates = [neighbors[i] for i in candidates_indices]\n",
    "        \n",
    "        min_dist = min(get_distance(self.pos) for pos in candidates)\n",
    "        \n",
    "        final_candidates = [ pos for pos in candidates \n",
    "                           if math.isclose(get_distance(self.pos,pos), min_dist, rel_tot =1e-02)]\n",
    "        \n",
    "        self.random.shuffle(final_candidates)\n",
    "        \n",
    "        # 4. Move agents \n",
    "        self.model.grid.move_agent(self, final_candidates[0])\n",
    "        \n",
    "    def eat(self):\n",
    "        ''' Function for agents to consumer sugara and spice'''\n",
    "        # get sugar \n",
    "        sugar_patch = self.get_sugar(self.pos)\n",
    "        if sugar_patch:\n",
    "            self.sugar += sugar_patch.amount\n",
    "            sugar_patch.amount = 0\n",
    "        self.sugar -= self.metabolism_sugar\n",
    "        \n",
    "        # get spice\n",
    "        spice_patch = self.get_spice(self.pos)\n",
    "        if spice_patch:\n",
    "            self.spice += spice_patch.amount\n",
    "            spice_patc.amount = 0 \n",
    "        self.spice -= self.metabolism_spice\n",
    "        \n",
    "        print(self.sugar, self.spice)\n",
    "        \n",
    "        \n",
    "    def may_die(self):\n",
    "        \"\"\"\n",
    "        Function to remove Traders who have consumed all their sugar or spice\n",
    "        \"\"\"\n",
    "        if self.is_starved():\n",
    "            print(self.unique_if, self.model.schedule.get_type_count(Trader))\n",
    "            self.model.grid.remove_agent(self)\n",
    "            self.model.schedule.remove(self)\n",
    "            \n",
    "            \n",
    "    def trade_with_neighbors(self):\n",
    "        \"\"\"\n",
    "        Funtion for trader agents to decide who to trade with in three parts\n",
    "        \n",
    "        1. Identifcy neighbors who can trader\n",
    "        2. trade (2 session)\n",
    "        3. collect data \n",
    "        \"\"\"\n",
    "        \n",
    "        neighbor_agents = [self.get_trader(pos) for pos in self.model.grid.get_neighborhood(self, self.moore, False, self.vision) if self.is_occupied_by_other(pos) ]\n",
    "        \n",
    "        if len(neighbor_agents) == 0:\n",
    "            # Trade returns price and trade (who agent traded with)\n",
    "            return [],[]\n",
    "        \n",
    "        # iterate through trader in neighboring cells and trade\n",
    "        for a in neighbor_agents:\n",
    "            if a:\n",
    "                self.trade(a)\n",
    "        return "
   ]
  },
  {
   "cell_type": "markdown",
   "id": "971d5fa7",
   "metadata": {},
   "source": [
    "### Model class"
   ]
  },
  {
   "cell_type": "markdown",
   "id": "57f88c79",
   "metadata": {},
   "source": [
    "## Add more complexities \n",
    "* Add upload landscape,  create environment  for trader agents to harvest and trade sugar and spice. "
   ]
  },
  {
   "cell_type": "code",
   "execution_count": 8,
   "id": "5906a34d",
   "metadata": {},
   "outputs": [],
   "source": [
    "class SugarscapeG1mt(mesa.Model):\n",
    "    \"\"\"\n",
    "    A model class of manage Sugarscape with traders(G1mt)\n",
    "    from growing artificial societies by axtell and epstein\n",
    "    \n",
    "    \"\"\"\n",
    "    \n",
    "    def __init__(self, width = 50, height = 50, initial_population = 200,\n",
    "                endowment_min= 25, endowment_max=50, metabolism_min=1,\n",
    "                metabolism_max=5, vision_min=1, vision_max =5):\n",
    "        \n",
    "        \n",
    "        # Initiate width and height of sugarscape - create landscape\n",
    "        self.width = width\n",
    "        self.height = height\n",
    "        \n",
    "        # Initiate population attributes \n",
    "        self.initial_population = initial_population\n",
    "        self.endowment_min = endowment_min\n",
    "        self.endowment_max = endowment_max\n",
    "        self.metabolism_min = metabolism_min\n",
    "        self.metabolism_max = metabolism_max\n",
    "        self.vision_min = vision_min\n",
    "        self.vision_max = vision_max\n",
    "        \n",
    "        # Initiate schedule \n",
    "        self.schedule = mesa.time.RandomActivationByType(self)\n",
    "        \n",
    "        # initiate mesa grid class\n",
    "        self.grid = mesa.space.MultiGrid(self.width,self.height, torus =False)\n",
    "        \n",
    "        # initiate datacollector ####\n",
    "        self.datacollector = mesa.DataCollector(\n",
    "                model_reporters = {\"Trader\": lambda m: m.schedule.get_type_count(Trader),\n",
    "                \"Trade_volume\" : lambda m:sum(len(a.trade_partners)\n",
    "                for a in m.schedule.agents_by_type[Trader].values()),\n",
    "                \"Price\": lambda m: geometic_mean(flatten([a.prices for a in m.schedule.agents_by_type[Trader].values]))},\n",
    "            agent_reporters = {\"Trade_Network\": lambda a:get_trade(a)}\n",
    "        )\n",
    "        \n",
    "        # Read in landscapae file form the supplmentary material \n",
    "        sugar_distribution = np.genfromtxt(\"sugar-map.txt\")\n",
    "        spice_distribution = np.flip(sugar_distribution, 1)\n",
    "        \n",
    "        agent_id = 0 \n",
    "        for _,(x,y) in self.grid.coord_iter(): # iterate over every grid cell, this is mesa function (method)\n",
    "            # instantite our agent \n",
    "            max_sugar = sugar_distribution[x,y]\n",
    "            if max_sugar > 0:\n",
    "                sugar = Sugar(agent_id,self,(x,y),max_sugar)\n",
    "                self.schedule.add(sugar)\n",
    "                self.grid.place_agent(sugar, (x,y))\n",
    "                agent_id += 1\n",
    "                \n",
    "        for _,(x,y) in self.grid.coord_iter():\n",
    "            max_spice = spice_distribution[x,y]\n",
    "            if max_spice > 0:\n",
    "                spice = Spice(agent_id, self, (x,y), max_spice)\n",
    "                self.schedule.add(spice)\n",
    "                self.grid.place_agent(spice, (x,y))\n",
    "                agent_id += 1\n",
    "                \n",
    "        for i in range(self.initial_population):\n",
    "            # get agent position \n",
    "            x = self.random.randrange(self.width)\n",
    "            y = self.random.randrange(self.height)\n",
    "            # see growing artificial socieities p 108 for paramenter initializaiton\n",
    "            # gave agents initial endowment\n",
    "            sugar = int(self.random.uniform(self.endowment_min, self.endowment_max + 1))\n",
    "            spice = int(self.random.uniform(self.endowment_min, self.endowment_max + 1))\n",
    "            # give agents initial metabolism - how much each agent burn the sugar and spice at every step of the model\n",
    "            metabolism_sugar = self.random.uniform(self.metabolism_min, self.metabolism_max + 1)\n",
    "            metabolism_spice = self.random.uniform(self.metabolism_min, self.metabolism_max + 1)\n",
    "            # give agent vision - \n",
    "            vision = int(self.random.uniform(self.vision_min,self.vision_max + 1))\n",
    "            # create trader \n",
    "            trader = Trader ( unique_id,\n",
    "                            self,     \n",
    "                            (x,y), \n",
    "                           moore = False,\n",
    "                           sugar= sugar,\n",
    "                           spice = spice,\n",
    "                           metabolism_sugar = metabolism_sugar,\n",
    "                           metabolism_spice = metabolism_spice,\n",
    "                           vision = vision )\n",
    "\n",
    "            # place agent\n",
    "            self.grid.place_agent(trader, (x,y))\n",
    "            self.schedule.add(trader)\n",
    "            print(trader.unique_id, trader.pos, trader.sugar, trader.metabolism_spice)\n",
    "            agent_id += 1\n",
    "            \n",
    "        def randomize_traders(self):\n",
    "            \"\"\"\n",
    "            Helper function for self.step()\n",
    "            \n",
    "            puts trader in randomize list for step function\n",
    "            \"\"\"\n",
    "            trader_shuffle = list(self.schedule.agents_by_type[Trader].values())\n",
    "            self.random.shuffle(trader_shuffle)\n",
    "            \n",
    "            return trader_shuffle \n",
    "            \n",
    "        def step(self):\n",
    "            \"\"\"\n",
    "            Unique step function that does staged activation of sugar and spice \n",
    "            and then randomly activates traders\n",
    "            \"\"\"\n",
    "            \n",
    "            # Step sugar agents\n",
    "            for sugar in self.schedule.agents_by_type[Sugar].values():\n",
    "                sugar.step()\n",
    "             \n",
    "            # Step spice agenst \n",
    "            for spice in self.schedule.agents_by_type[Spice].values():\n",
    "                spice.step()\n",
    "            \n",
    "            # step trader agents \n",
    "            # to account for agent death and removal we need a seperate data strucute to iterate\n",
    "            trader_shuffle = self.randomize_traders()\n",
    "            \n",
    "            for agent in trader_shuffle:\n",
    "                agent.price = []\n",
    "                agent.trade = []\n",
    "                agent.move()\n",
    "                agent.eat()\n",
    "                agent.maybe_die()\n",
    "                \n",
    "            trader_shuffle = self.randomize_trader()\n",
    "            \n",
    "            for agent in trader_shuffle:\n",
    "                agent.trade_with_neighbors()\n",
    "                \n",
    "            self.schedule.steps += 1 # important for data collector to track the number of steps \n",
    "            \n",
    "            # collect model level data \n",
    "            self.datacollactor.collect(self)\n",
    "            \n",
    "        def run_model(self, step_count =1000):\n",
    "            for i in range(step_count):\n",
    "                self.step()\n",
    "            "
   ]
  },
  {
   "cell_type": "markdown",
   "id": "78fd83de",
   "metadata": {},
   "source": [
    "``` json\n",
    "\n",
    "model = SugarscapeG1mt()\n",
    "model.run_model(step_count = 5)\n",
    "\n",
    "``` "
   ]
  },
  {
   "cell_type": "markdown",
   "id": "de92cc1a",
   "metadata": {},
   "source": [
    "## Analyse Data"
   ]
  },
  {
   "cell_type": "code",
   "execution_count": 9,
   "id": "274ce3f0",
   "metadata": {},
   "outputs": [
    {
     "ename": "NameError",
     "evalue": "name 'model' is not defined",
     "output_type": "error",
     "traceback": [
      "\u001b[1;31m---------------------------------------------------------------------------\u001b[0m",
      "\u001b[1;31mNameError\u001b[0m                                 Traceback (most recent call last)",
      "Cell \u001b[1;32mIn[9], line 1\u001b[0m\n\u001b[1;32m----> 1\u001b[0m results \u001b[38;5;241m=\u001b[39m model\u001b[38;5;241m.\u001b[39mdatacollector\u001b[38;5;241m.\u001b[39mget_model_vars_dataframe()\n",
      "\u001b[1;31mNameError\u001b[0m: name 'model' is not defined"
     ]
    }
   ],
   "source": [
    "results = model.datacollector.get_model_vars_dataframe()"
   ]
  },
  {
   "cell_type": "code",
   "execution_count": null,
   "id": "de8db5d8",
   "metadata": {},
   "outputs": [],
   "source": [
    "results.plot(y=\"Trader\", use_index = True)"
   ]
  },
  {
   "cell_type": "code",
   "execution_count": null,
   "id": "260e79ea",
   "metadata": {},
   "outputs": [],
   "source": [
    "# plot trade price per step\n",
    "\n",
    "y = list(results[\"Price\"])\n",
    "x = range(1000)\n",
    "\n",
    "plt.scatter(x,y,s=1)"
   ]
  },
  {
   "cell_type": "code",
   "execution_count": null,
   "id": "573e436d",
   "metadata": {},
   "outputs": [],
   "source": [
    "# plot trade volume \n",
    "\n",
    "plt.bar(results.index, results[\"Trade volume\"][10:])"
   ]
  },
  {
   "cell_type": "code",
   "execution_count": 10,
   "id": "78217e4b",
   "metadata": {},
   "outputs": [
    {
     "ename": "NameError",
     "evalue": "name 'results' is not defined",
     "output_type": "error",
     "traceback": [
      "\u001b[1;31m---------------------------------------------------------------------------\u001b[0m",
      "\u001b[1;31mNameError\u001b[0m                                 Traceback (most recent call last)",
      "Cell \u001b[1;32mIn[10], line 4\u001b[0m\n\u001b[0;32m      1\u001b[0m \u001b[38;5;66;03m# plot trade volume improved \u001b[39;00m\n\u001b[0;32m      3\u001b[0m \u001b[38;5;28;01mfor\u001b[39;00m i \u001b[38;5;129;01min\u001b[39;00m \u001b[38;5;28mrange\u001b[39m(\u001b[38;5;241m1000\u001b[39m):\n\u001b[1;32m----> 4\u001b[0m     plt\u001b[38;5;241m.\u001b[39mvlines(i,\u001b[38;5;241m0\u001b[39m,results[\u001b[38;5;124m'\u001b[39m\u001b[38;5;124mTrade Volume\u001b[39m\u001b[38;5;124m'\u001b[39m][i])\n",
      "\u001b[1;31mNameError\u001b[0m: name 'results' is not defined"
     ]
    }
   ],
   "source": [
    "# plot trade volume improved \n",
    "\n",
    "for i in range(1000):\n",
    "    plt.vlines(i,0,results['Trade Volume'][i])"
   ]
  },
  {
   "cell_type": "code",
   "execution_count": 12,
   "id": "098d92c1",
   "metadata": {},
   "outputs": [
    {
     "ename": "NameError",
     "evalue": "name 'model' is not defined",
     "output_type": "error",
     "traceback": [
      "\u001b[1;31m---------------------------------------------------------------------------\u001b[0m",
      "\u001b[1;31mNameError\u001b[0m                                 Traceback (most recent call last)",
      "Cell \u001b[1;32mIn[12], line 2\u001b[0m\n\u001b[0;32m      1\u001b[0m \u001b[38;5;66;03m# Retrieve agent level results \u001b[39;00m\n\u001b[1;32m----> 2\u001b[0m agent_results \u001b[38;5;241m=\u001b[39m model\u001b[38;5;241m.\u001b[39mdatacollector\u001b[38;5;241m.\u001b[39mget_agent_vats_dataframe()\n\u001b[0;32m      4\u001b[0m \u001b[38;5;66;03m# filter out none from non-trader agents \u001b[39;00m\n\u001b[0;32m      5\u001b[0m agent_results \u001b[38;5;241m=\u001b[39m agent_result[agent_results[\u001b[38;5;124m'\u001b[39m\u001b[38;5;124mTrade_Network\u001b[39m\u001b[38;5;124m'\u001b[39m]\u001b[38;5;241m.\u001b[39mnotnull()]\n",
      "\u001b[1;31mNameError\u001b[0m: name 'model' is not defined"
     ]
    }
   ],
   "source": [
    "# Retrieve agent level results \n",
    "agent_results = model.datacollector.get_agent_vats_dataframe()\n",
    "\n",
    "# filter out none from non-trader agents \n",
    "agent_results = agent_result[agent_results['Trade_Network'].notnull()]\n",
    "agent_results"
   ]
  },
  {
   "cell_type": "code",
   "execution_count": 13,
   "id": "104e2dcd",
   "metadata": {},
   "outputs": [
    {
     "ename": "NameError",
     "evalue": "name 'result' is not defined",
     "output_type": "error",
     "traceback": [
      "\u001b[1;31m---------------------------------------------------------------------------\u001b[0m",
      "\u001b[1;31mNameError\u001b[0m                                 Traceback (most recent call last)",
      "Cell \u001b[1;32mIn[13], line 2\u001b[0m\n\u001b[0;32m      1\u001b[0m \u001b[38;5;28;01mfor\u001b[39;00m i \u001b[38;5;129;01min\u001b[39;00m \u001b[38;5;28mrange\u001b[39m(\u001b[38;5;241m1000\u001b[39m):\n\u001b[1;32m----> 2\u001b[0m     plt\u001b[38;5;241m.\u001b[39mvlines(i,\u001b[38;5;241m0\u001b[39m,result[\u001b[38;5;124m\"\u001b[39m\u001b[38;5;124mTrade volume\u001b[39m\u001b[38;5;124m\"\u001b[39m][i])\n",
      "\u001b[1;31mNameError\u001b[0m: name 'result' is not defined"
     ]
    }
   ],
   "source": [
    "for i in range(1000):\n",
    "    plt.vlines(i,0,result[\"Trade volume\"][i])"
   ]
  },
  {
   "cell_type": "code",
   "execution_count": 14,
   "id": "394d0c07",
   "metadata": {},
   "outputs": [
    {
     "ename": "NameError",
     "evalue": "name 'model' is not defined",
     "output_type": "error",
     "traceback": [
      "\u001b[1;31m---------------------------------------------------------------------------\u001b[0m",
      "\u001b[1;31mNameError\u001b[0m                                 Traceback (most recent call last)",
      "Cell \u001b[1;32mIn[14], line 5\u001b[0m\n\u001b[0;32m      2\u001b[0m G \u001b[38;5;241m=\u001b[39m nx\u001b[38;5;241m.\u001b[39mGraph()\n\u001b[0;32m      4\u001b[0m \u001b[38;5;66;03m# add agent keys to make initial node set \u001b[39;00m\n\u001b[1;32m----> 5\u001b[0m G\u001b[38;5;241m.\u001b[39madd_nodes_from(\u001b[38;5;28mlist\u001b[39m(model\u001b[38;5;241m.\u001b[39mschedule\u001b[38;5;241m.\u001b[39magent_by_type[Trader]\u001b[38;5;241m.\u001b[39mkeys()))\n\u001b[0;32m      8\u001b[0m \u001b[38;5;66;03m# create edge list \u001b[39;00m\n\u001b[0;32m      9\u001b[0m \u001b[38;5;28;01mfor\u001b[39;00m idx,row \u001b[38;5;129;01min\u001b[39;00m agent_results\u001b[38;5;241m.\u001b[39miterrows():\n",
      "\u001b[1;31mNameError\u001b[0m: name 'model' is not defined"
     ]
    }
   ],
   "source": [
    "# Creating network instance \n",
    "G = nx.Graph()\n",
    "\n",
    "# add agent keys to make initial node set \n",
    "G.add_nodes_from(list(model.schedule.agent_by_type[Trader].keys()))\n",
    "\n",
    "\n",
    "# create edge list \n",
    "for idx,row in agent_results.iterrows():\n",
    "    if len(row[\"Trade Network\"]) > 0:\n",
    "        for agent in row['Trader Network']:\n",
    "            G.add_edge(idx[i],agent)\n",
    "    \n",
    "    "
   ]
  },
  {
   "cell_type": "code",
   "execution_count": 15,
   "id": "535db737",
   "metadata": {},
   "outputs": [
    {
     "ename": "AttributeError",
     "evalue": "module 'networkx' has no attribute 'model_connectivity'",
     "output_type": "error",
     "traceback": [
      "\u001b[1;31m---------------------------------------------------------------------------\u001b[0m",
      "\u001b[1;31mAttributeError\u001b[0m                            Traceback (most recent call last)",
      "Cell \u001b[1;32mIn[15], line 1\u001b[0m\n\u001b[1;32m----> 1\u001b[0m nx\u001b[38;5;241m.\u001b[39mmodel_connectivity(G), nx\u001b[38;5;241m.\u001b[39maverage_clustering(G), nx\u001b[38;5;241m.\u001b[39mdiameter(G), mx\u001b[38;5;241m.\u001b[39mglobal_efficiency(G)\n",
      "\u001b[1;31mAttributeError\u001b[0m: module 'networkx' has no attribute 'model_connectivity'"
     ]
    }
   ],
   "source": [
    "nx.model_connectivity(G), nx.average_clustering(G), nx.diameter(G), mx.global_efficiency(G)"
   ]
  },
  {
   "cell_type": "code",
   "execution_count": 17,
   "id": "19422aaf",
   "metadata": {},
   "outputs": [
    {
     "data": {
      "text/plain": [
       "(array([0., 0., 0., 0., 0., 0., 0., 0., 0., 0.]),\n",
       " array([0. , 0.1, 0.2, 0.3, 0.4, 0.5, 0.6, 0.7, 0.8, 0.9, 1. ]),\n",
       " <BarContainer object of 10 artists>)"
      ]
     },
     "execution_count": 17,
     "metadata": {},
     "output_type": "execute_result"
    },
    {
     "data": {
      "image/png": "[encoded data removed]",
      "text/plain": [
       "<Figure size 640x480 with 1 Axes>"
      ]
     },
     "metadata": {},
     "output_type": "display_data"
    }
   ],
   "source": [
    "degree = [d for n,d in G.degree()]\n",
    "plt.hist(degree)"
   ]
  },
  {
   "cell_type": "code",
   "execution_count": 18,
   "id": "41cb4eb4",
   "metadata": {},
   "outputs": [
    {
     "data": {
      "image/png": "[encoded data removed]",
      "text/plain": [
       "<Figure size 640x480 with 1 Axes>"
      ]
     },
     "metadata": {},
     "output_type": "display_data"
    }
   ],
   "source": [
    "nx.draw(G)"
   ]
  },
  {
   "cell_type": "markdown",
   "id": "b3bae81f",
   "metadata": {},
   "source": [
    "### Batch Run and analysis "
   ]
  },
  {
   "cell_type": "markdown",
   "id": "063d2f2c",
   "metadata": {},
   "source": [
    "``` json\n",
    "params = { \"width\": 50, \"height\": 50,\n",
    "\n",
    "\"vision_min\": range(1,3),\n",
    "\n",
    "\"metabolism_max\": [3,5] }\n",
    "\n",
    "results_batch = mesa.batch_run(\n",
    "                        SugarscapeG1mt,\n",
    "                        parameters params,\n",
    "                        iterations 1,\n",
    "                        number processes =1,\n",
    "                 data_collection_period = 1,\n",
    "                   display_progress = True)\n",
    "\n",
    "``` "
   ]
  },
  {
   "cell_type": "code",
   "execution_count": 20,
   "id": "a3988ddd",
   "metadata": {},
   "outputs": [
    {
     "ename": "AttributeError",
     "evalue": "module 'pandas' has no attribute 'Dataframe'",
     "output_type": "error",
     "traceback": [
      "\u001b[1;31m---------------------------------------------------------------------------\u001b[0m",
      "\u001b[1;31mAttributeError\u001b[0m                            Traceback (most recent call last)",
      "Cell \u001b[1;32mIn[20], line 2\u001b[0m\n\u001b[0;32m      1\u001b[0m \u001b[38;5;28;01mimport\u001b[39;00m \u001b[38;5;21;01mpandas\u001b[39;00m \u001b[38;5;28;01mas\u001b[39;00m \u001b[38;5;21;01mpd\u001b[39;00m\n\u001b[1;32m----> 2\u001b[0m result_df \u001b[38;5;241m=\u001b[39m pd\u001b[38;5;241m.\u001b[39mDataframe(result_batch)\n\u001b[0;32m      3\u001b[0m result_df\n",
      "\u001b[1;31mAttributeError\u001b[0m: module 'pandas' has no attribute 'Dataframe'"
     ]
    }
   ],
   "source": [
    "import pandas as pd\n",
    "result_df = pd.Dataframe(result_batch)\n",
    "result_df"
   ]
  },
  {
   "cell_type": "markdown",
   "id": "4ff89d2c",
   "metadata": {},
   "source": [
    "``` json\n",
    "plt.scatter(result_df[\"Step\"], results_df[\"Price\"], s=0.75)\n",
    "\n",
    "```"
   ]
  },
  {
   "cell_type": "code",
   "execution_count": 21,
   "id": "6c5fa95c",
   "metadata": {},
   "outputs": [
    {
     "ename": "NameError",
     "evalue": "name 'results_df' is not defined",
     "output_type": "error",
     "traceback": [
      "\u001b[1;31m---------------------------------------------------------------------------\u001b[0m",
      "\u001b[1;31mNameError\u001b[0m                                 Traceback (most recent call last)",
      "Cell \u001b[1;32mIn[21], line 1\u001b[0m\n\u001b[1;32m----> 1\u001b[0m results_explore \u001b[38;5;241m=\u001b[39m results_df[results_df[\u001b[38;5;124m\"\u001b[39m\u001b[38;5;124mmetabolism_max\u001b[39m\u001b[38;5;124m\"\u001b[39m]\u001b[38;5;241m==\u001b[39m\u001b[38;5;241m3\u001b[39m]\n\u001b[0;32m      2\u001b[0m results_explore\n",
      "\u001b[1;31mNameError\u001b[0m: name 'results_df' is not defined"
     ]
    }
   ],
   "source": [
    "results_explore = results_df[results_df[\"metabolism_max\"]==3]\n",
    "results_explore"
   ]
  },
  {
   "cell_type": "code",
   "execution_count": 22,
   "id": "b85f2998",
   "metadata": {},
   "outputs": [
    {
     "ename": "NameError",
     "evalue": "name 'result_explore' is not defined",
     "output_type": "error",
     "traceback": [
      "\u001b[1;31m---------------------------------------------------------------------------\u001b[0m",
      "\u001b[1;31mNameError\u001b[0m                                 Traceback (most recent call last)",
      "Cell \u001b[1;32mIn[22], line 1\u001b[0m\n\u001b[1;32m----> 1\u001b[0m plt\u001b[38;5;241m.\u001b[39mscatter(result_explore[\u001b[38;5;124m\"\u001b[39m\u001b[38;5;124mStep\u001b[39m\u001b[38;5;124m\"\u001b[39m],results_explore[\u001b[38;5;124m\"\u001b[39m\u001b[38;5;124mPrice\u001b[39m\u001b[38;5;124m\"\u001b[39m], s\u001b[38;5;241m=\u001b[39m\u001b[38;5;241m0.75\u001b[39m )\n",
      "\u001b[1;31mNameError\u001b[0m: name 'result_explore' is not defined"
     ]
    }
   ],
   "source": [
    "plt.scatter(result_explore[\"Step\"],results_explore[\"Price\"], s=0.75 )"
   ]
  },
  {
   "cell_type": "code",
   "execution_count": 24,
   "id": "1f6bfdbc",
   "metadata": {},
   "outputs": [
    {
     "ename": "NameError",
     "evalue": "name 'results_df' is not defined",
     "output_type": "error",
     "traceback": [
      "\u001b[1;31m---------------------------------------------------------------------------\u001b[0m",
      "\u001b[1;31mNameError\u001b[0m                                 Traceback (most recent call last)",
      "Cell \u001b[1;32mIn[24], line 2\u001b[0m\n\u001b[0;32m      1\u001b[0m \u001b[38;5;28;01mfor\u001b[39;00m i \u001b[38;5;129;01min\u001b[39;00m \u001b[38;5;28mrange\u001b[39m(\u001b[38;5;241m4\u001b[39m):\n\u001b[1;32m----> 2\u001b[0m     results_explore \u001b[38;5;241m=\u001b[39m results_df[results_df[\u001b[38;5;124m\"\u001b[39m\u001b[38;5;124mRunId\u001b[39m\u001b[38;5;124m\"\u001b[39m] \u001b[38;5;241m==\u001b[39m i\n\u001b[0;32m      3\u001b[0m                                 ]\n\u001b[0;32m      4\u001b[0m     plt\u001b[38;5;241m.\u001b[39mplots(result_explore[\u001b[38;5;124m\"\u001b[39m\u001b[38;5;124mStep\u001b[39m\u001b[38;5;124m\"\u001b[39m],results_explore[\u001b[38;5;124m\"\u001b[39m\u001b[38;5;124mTrader\u001b[39m\u001b[38;5;124m\"\u001b[39m])\n",
      "\u001b[1;31mNameError\u001b[0m: name 'results_df' is not defined"
     ]
    }
   ],
   "source": [
    "for i in range(4):\n",
    "    results_explore = results_df[results_df[\"RunId\"] == i\n",
    "                                ]\n",
    "    plt.plots(result_explore[\"Step\"],results_explore[\"Trader\"])"
   ]
  },
  {
   "cell_type": "code",
   "execution_count": null,
   "id": "8b70f979",
   "metadata": {},
   "outputs": [],
   "source": []
  }
 ],
 "metadata": {
  "kernelspec": {
   "display_name": "Python 3 (ipykernel)",
   "language": "python",
   "name": "python3"
  },
  "language_info": {
   "codemirror_mode": {
    "name": "ipython",
    "version": 3
   },
   "file_extension": ".py",
   "mimetype": "text/x-python",
   "name": "python",
   "nbconvert_exporter": "python",
   "pygments_lexer": "ipython3",
   "version": "3.11.5"
  }
 },
 "nbformat": 4,
 "nbformat_minor": 5
}
